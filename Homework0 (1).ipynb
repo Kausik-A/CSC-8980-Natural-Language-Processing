{
  "nbformat": 4,
  "nbformat_minor": 0,
  "metadata": {
    "colab": {
      "name": "Homework0.ipynb",
      "provenance": [],
      "collapsed_sections": []
    },
    "kernelspec": {
      "name": "python3",
      "display_name": "Python 3"
    }
  },
  "cells": [
    {
      "cell_type": "markdown",
      "metadata": {
        "id": "B3M7psoX9KNy"
      },
      "source": [
        "Name: Kausik Amancherla\n",
        "\n",
        "Student ID: 002544017 "
      ]
    },
    {
      "cell_type": "markdown",
      "metadata": {
        "id": "v224RXcRWZ6B"
      },
      "source": [
        "1. Write a function that finds the factorial of a number. Test the function finding the factorial of the number 10."
      ]
    },
    {
      "cell_type": "code",
      "metadata": {
        "id": "2b2g6IRhXh_5"
      },
      "source": [
        "def Factorial(num):\n",
        "  factorial = 1;\n",
        "  if num == 0:\n",
        "    return 1;\n",
        "  else:\n",
        "    for i in range(1,num+1):\n",
        "      factorial = factorial * i\n",
        "  return factorial\n"
      ],
      "execution_count": 79,
      "outputs": []
    },
    {
      "cell_type": "code",
      "metadata": {
        "colab": {
          "base_uri": "https://localhost:8080/",
          "height": 0
        },
        "id": "fXKyGYHgqYoN",
        "outputId": "9acdc4e4-b140-46a2-b2f0-894a3617e28b"
      },
      "source": [
        "Factorial(35) "
      ],
      "execution_count": 80,
      "outputs": [
        {
          "output_type": "execute_result",
          "data": {
            "text/plain": [
              "10333147966386144929666651337523200000000"
            ]
          },
          "metadata": {
            "tags": []
          },
          "execution_count": 80
        }
      ]
    },
    {
      "cell_type": "markdown",
      "metadata": {
        "id": "El_yMuJmrLT4"
      },
      "source": [
        "2.Write a function that determines if a number is a prime number. Test the function with the following numbers: 3 and 1251."
      ]
    },
    {
      "cell_type": "code",
      "metadata": {
        "id": "mB9DHvQkrHsY"
      },
      "source": [
        "def Prime(num):\n",
        "  if num > 1:\n",
        "    for i in range(2, num):\n",
        "        if (num % i) == 0:\n",
        "            print(\"This is not a prime number\")\n",
        "            break\n",
        "    else:\n",
        "        print(\"This is a prime number\");\n",
        "  else:\n",
        "    print(\"This is not a prime number\")\n"
      ],
      "execution_count": 81,
      "outputs": []
    },
    {
      "cell_type": "code",
      "metadata": {
        "colab": {
          "base_uri": "https://localhost:8080/",
          "height": 0
        },
        "id": "CTOa43vYrUt9",
        "outputId": "62092376-d873-411d-94e8-b876a074c088"
      },
      "source": [
        "Prime(11)"
      ],
      "execution_count": 82,
      "outputs": [
        {
          "output_type": "stream",
          "text": [
            "This is a prime number\n"
          ],
          "name": "stdout"
        }
      ]
    },
    {
      "cell_type": "code",
      "metadata": {
        "colab": {
          "base_uri": "https://localhost:8080/",
          "height": 0
        },
        "id": "v1ChYl88rUe1",
        "outputId": "73b2ce59-d38c-4dba-9e36-7eafab5ebcf7"
      },
      "source": [
        "Prime(2898)"
      ],
      "execution_count": 83,
      "outputs": [
        {
          "output_type": "stream",
          "text": [
            "This is not a prime number\n"
          ],
          "name": "stdout"
        }
      ]
    },
    {
      "cell_type": "markdown",
      "metadata": {
        "id": "VP42ZNDIrq3d"
      },
      "source": [
        "3.Write a function that transposes a matrix. Test with a 3 x 3 identity matrix."
      ]
    },
    {
      "cell_type": "code",
      "metadata": {
        "id": "vsKQIDCErzIh"
      },
      "source": [
        "def Transpose(matrix):\n",
        "  transpose = [[0, 0, 0], [0, 0, 0], [0, 0, 0]]\n",
        "  for i in range(len(matrix)):\n",
        "      for j in range(len(matrix[0])):\n",
        "        transpose[j][i] = matrix[i][j]\n",
        "  for j in transpose:\n",
        "    return transpose\n"
      ],
      "execution_count": 84,
      "outputs": []
    },
    {
      "cell_type": "code",
      "metadata": {
        "colab": {
          "base_uri": "https://localhost:8080/",
          "height": 0
        },
        "id": "ptK7KWjxr5oI",
        "outputId": "c275e61a-d293-431f-f389-ca72ade85f2e"
      },
      "source": [
        "Transpose([[2,3,4],[3,1,2],[2,4,6]])"
      ],
      "execution_count": 86,
      "outputs": [
        {
          "output_type": "execute_result",
          "data": {
            "text/plain": [
              "[[2, 3, 2], [3, 1, 4], [4, 2, 6]]"
            ]
          },
          "metadata": {
            "tags": []
          },
          "execution_count": 86
        }
      ]
    },
    {
      "cell_type": "markdown",
      "metadata": {
        "id": "yCAw_Nerr_cJ"
      },
      "source": [
        "4 Using Pandas and Numpy, write a piece of code to combine two series into one.\n",
        "\n",
        "\n"
      ]
    },
    {
      "cell_type": "code",
      "metadata": {
        "id": "1Yi6GjTksAFl"
      },
      "source": [
        "def CombineSeries(series1,series2):\n",
        "    length1 = len(series1)\n",
        "    length2= len(series2)\n",
        "    if(length1 > length2):\n",
        "        for i in series1:\n",
        "            series1[i] = series1[i] + series2[i]\n",
        "            return series1\n",
        "        else:\n",
        "            for i in series2:\n",
        "                series2[i] = series1[i] + series2[i]\n",
        "    return series2\n"
      ],
      "execution_count": 139,
      "outputs": []
    },
    {
      "cell_type": "code",
      "metadata": {
        "colab": {
          "base_uri": "https://localhost:8080/",
          "height": 0
        },
        "id": "PF3ipyUasbUs",
        "outputId": "d04653c5-1d7e-4b7e-afd9-8f54319d3062"
      },
      "source": [
        "import pandas as pd\n",
        "\n",
        "np.random.seed(0)\n",
        "series1 = pd.Series(np.arange(10))\n",
        "series2 = pd.Series(np.arange(26))\n",
        "CombineSeries(series1,series2)"
      ],
      "execution_count": 140,
      "outputs": [
        {
          "output_type": "execute_result",
          "data": {
            "text/plain": [
              "0      0\n",
              "1      1\n",
              "2      2\n",
              "3      3\n",
              "4      4\n",
              "5      5\n",
              "6      6\n",
              "7      7\n",
              "8      8\n",
              "9      9\n",
              "10    10\n",
              "11    11\n",
              "12    12\n",
              "13    13\n",
              "14    14\n",
              "15    15\n",
              "16    16\n",
              "17    17\n",
              "18    18\n",
              "19    19\n",
              "20    20\n",
              "21    21\n",
              "22    22\n",
              "23    23\n",
              "24    24\n",
              "25    25\n",
              "dtype: int64"
            ]
          },
          "metadata": {
            "tags": []
          },
          "execution_count": 140
        }
      ]
    },
    {
      "cell_type": "markdown",
      "metadata": {
        "id": "LUQIokw1u5Zg"
      },
      "source": [
        "5. Using pandas, write a piece of code to convert the First character of each element in a series to uppercase."
      ]
    },
    {
      "cell_type": "code",
      "metadata": {
        "id": "1-SiKF9mvbXj"
      },
      "source": [
        "import pandas as pd\n",
        "series = pd.Series(['nlp', 'will', 'be', 'easy?'])\n"
      ],
      "execution_count": null,
      "outputs": []
    },
    {
      "cell_type": "code",
      "metadata": {
        "id": "voVUQ9_Mum8V"
      },
      "source": [
        "def capitalletter(FirstLetter):\n",
        "        upper_ascii_value = ord(FirstLetter) - 32 # decreases ascii value by 32\n",
        "\n",
        "        upper_case_letter  = chr(upper_ascii_value) # coverts ascii value to character\n",
        "        return upper_case_letter\n",
        "\n",
        "       "
      ],
      "execution_count": 142,
      "outputs": []
    },
    {
      "cell_type": "code",
      "metadata": {
        "colab": {
          "base_uri": "https://localhost:8080/",
          "height": 0
        },
        "id": "NYBR9LE-vePi",
        "outputId": "a7c8281f-0da1-4fe3-a5aa-b0d4bd944078"
      },
      "source": [
        "for i in range(0,len(series)):\n",
        "            newSeries = capitalletter(series[i][0]) + series[0:]\n",
        " \n",
        " print(newSeries)"
      ],
      "execution_count": 146,
      "outputs": [
        {
          "output_type": "execute_result",
          "data": {
            "text/plain": [
              "0      Nlp\n",
              "1     Will\n",
              "2       Be\n",
              "3    Easy?\n",
              "dtype: object"
            ]
          },
          "metadata": {
            "tags": []
          },
          "execution_count": 146
        }
      ]
    },
    {
      "cell_type": "markdown",
      "metadata": {
        "id": "919jI_qk7YC4"
      },
      "source": [
        "Bonus Question\n",
        "Using pandas, write a piece of code to get the frequency of unique values in the entire dataframe (not using built in functions).\n"
      ]
    },
    {
      "cell_type": "code",
      "metadata": {
        "id": "Kl0B3FStvSE1"
      },
      "source": [
        "def FrequencyCount(dataframe):\n",
        "    frequency = {}\n",
        "\n",
        "    for index,row in dataframe.iterrows():\n",
        "            for item in range(0, len(row)):\n",
        "                if (row[item] in frequency):\n",
        "                    frequency[row[item]] += 1\n",
        "                else:\n",
        "                    frequency[row[item]] = 1\n",
        "\n",
        "    return frequency\n"
      ],
      "execution_count": 144,
      "outputs": []
    },
    {
      "cell_type": "code",
      "metadata": {
        "colab": {
          "base_uri": "https://localhost:8080/",
          "height": 0
        },
        "id": "dHbPXgsLzN_n",
        "outputId": "eb4f0d03-6bdc-4dae-9b66-0f6fab86c246"
      },
      "source": [
        "import numpy as np\n",
        "\n",
        "dataframe = pd.DataFrame(np.random.randint(5, 10, 20).reshape(-1, 4), columns = list('abcd'))\n",
        "print(dataframe)\n",
        "\n",
        "FrequencyCount(dataframe)"
      ],
      "execution_count": 145,
      "outputs": [
        {
          "output_type": "stream",
          "text": [
            "   a  b  c  d\n",
            "0  9  5  8  8\n",
            "1  8  6  8  7\n",
            "2  9  5  5  9\n",
            "3  7  6  5  6\n",
            "4  6  5  6  9\n"
          ],
          "name": "stdout"
        },
        {
          "output_type": "execute_result",
          "data": {
            "text/plain": [
              "{5: 5, 6: 5, 7: 2, 8: 4, 9: 4}"
            ]
          },
          "metadata": {
            "tags": []
          },
          "execution_count": 145
        }
      ]
    }
  ]
}